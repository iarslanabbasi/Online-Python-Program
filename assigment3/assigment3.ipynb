{
 "cells": [
  {
   "cell_type": "code",
   "execution_count": 1,
   "id": "14d740cb",
   "metadata": {},
   "outputs": [
    {
     "name": "stdout",
     "output_type": "stream",
     "text": [
      "Twinkle,twinkle, little star,\n",
      "         How i wonder What you are!\n",
      "                       Up above the world so high\n",
      "                       Like a dimond in the sky.\n",
      "Twikle twinke, little star\n",
      "           How I wonder what you are\n"
     ]
    }
   ],
   "source": [
    "\n",
    "#Q no1)write a python program to print th following string in a specific format(see the output)?\n",
    "\n",
    "print(\"Twinkle,twinkle, little star,\\n         How i wonder What you are!\\n                       Up above the world so high\\n                       Like a dimond in the sky.\");\n",
    "print(\"Twikle twinke, little star\\n           How I wonder what you are\");"
   ]
  },
  {
   "cell_type": "code",
   "execution_count": 5,
   "id": "dcd7ccad",
   "metadata": {},
   "outputs": [
    {
     "name": "stdout",
     "output_type": "stream",
     "text": [
      "3.8.8 (default, Apr 13 2021, 15:08:03) [MSC v.1916 64 bit (AMD64)]\n"
     ]
    }
   ],
   "source": [
    "#Q no 2) write a Python program to get the Python version you are using ?\n",
    "\n",
    "import sys\n",
    "print(sys.version);"
   ]
  },
  {
   "cell_type": "code",
   "execution_count": 6,
   "id": "c597444a",
   "metadata": {},
   "outputs": [
    {
     "name": "stdout",
     "output_type": "stream",
     "text": [
      "Current date and time : \n",
      "2021-10-24 16:28:58\n"
     ]
    }
   ],
   "source": [
    "#Q no3) Write a Python program to display the current date and time. ?\n",
    "import datetime\n",
    "now = datetime.datetime.now()\n",
    "print (\"Current date and time : \")\n",
    "print (now.strftime(\"%Y-%m-%d %H:%M:%S\"))"
   ]
  },
  {
   "cell_type": "code",
   "execution_count": 7,
   "id": "db0bb1fa",
   "metadata": {},
   "outputs": [
    {
     "name": "stdout",
     "output_type": "stream",
     "text": [
      "Input the radius of the circle : 10\n",
      "The area of the circle with radius 10.0 is: 314.24\n"
     ]
    }
   ],
   "source": [
    "#Qno4)  Write a Python program which accepts the radius of a circle from the user and compute the area?\n",
    "pi=3.1424\n",
    "Circlered = float(input (\"Input the radius of the circle : \"))\n",
    "print (\"The area of the circle with radius \" + str(Circlered) + \" is: \" + str(pi * Circlered**2));"
   ]
  },
  {
   "cell_type": "code",
   "execution_count": 8,
   "id": "a86e63f2",
   "metadata": {},
   "outputs": [
    {
     "name": "stdout",
     "output_type": "stream",
     "text": [
      "Input your First Name : uzma \n",
      "Input your Last Name : kanwal\n",
      "Reverse order Name print  kanwal uzma \n"
     ]
    }
   ],
   "source": [
    "first_name = input(\"Input your First Name : \")\n",
    "last_name = input(\"Input your Last Name : \")\n",
    "print (\"Reverse order Name print  \" + last_name + \" \" + first_name)"
   ]
  },
  {
   "cell_type": "code",
   "execution_count": 9,
   "id": "4544cb7b",
   "metadata": {},
   "outputs": [
    {
     "name": "stdout",
     "output_type": "stream",
     "text": [
      "please enter firse input:18\n",
      "Please enter 2nd input 18\n",
      "Addition of Two number 36\n"
     ]
    }
   ],
   "source": [
    "first_input=int(input(\"please enter firse input:\"))\n",
    "second_input=int(input(\"Please enter 2nd input \"))\n",
    "addition=first_input + second_input;\n",
    "print(\"Addition of Two number \" +str(addition))"
   ]
  },
  {
   "cell_type": "code",
   "execution_count": 10,
   "id": "42a25a21",
   "metadata": {},
   "outputs": [
    {
     "name": "stdout",
     "output_type": "stream",
     "text": [
      "My Marksheet\n",
      "please enter Maths Marks:50\n",
      "Please enter Computer Marks 50\n",
      "please enter urdu Marks :50\n",
      "Please enter Physics Marks 50\n",
      "please enter Islamiat Marks:50\n",
      "Total ObtainedMarks:  250\n",
      "Percentage : 50.0\n",
      "Congratulation You Got a C grade\n"
     ]
    }
   ],
   "source": [
    "\n",
    "print(\"My Marksheet\");\n",
    "   \n",
    "Maths=int(input(\"please enter Maths Marks:\"))\n",
    "Computer=int(input(\"Please enter Computer Marks \"))\n",
    "Urdu=int(input(\"please enter urdu Marks :\"))\n",
    "Physics=int(input(\"Please enter Physics Marks \"))\n",
    "Islamiat=int(input(\"please enter Islamiat Marks:\"))\n",
    "\n",
    "\n",
    "TotalMarks = 500;\n",
    "\n",
    "\n",
    "ObtainedMarks = Maths+Computer+Islamiat+Urdu+Physics;\n",
    "print( \"Total ObtainedMarks:  \" + str(ObtainedMarks));\n",
    "\n",
    "Percentage = ObtainedMarks * 100 / TotalMarks;\n",
    "print(\"Percentage : \" + str(Percentage));\n",
    "\n",
    "\n",
    "\n",
    "if Percentage >= 80:\n",
    "  print(\"Congratulations You Got A+1 Grage\")\n",
    "elif Percentage >= 70 and Percentage <= 80:\n",
    "   print(\"Congratulations You Got A Grage\")\n",
    "elif Percentage >= 60 and Percentage <=70:\n",
    "   print(\"Congratulations You Got B Grage\")\n",
    "elif Percentage >= 50 and Percentage <= 60:\n",
    "  print(\"Congratulation You Got a C grade\")\n",
    "elif Percentage >= 40 and Percentage <= 50:\n",
    " print(\"Congratulation You Got a D grade\")\n",
    "elif Percentage <= 40:\n",
    "   print(\"Try Again You Are Failed\")"
   ]
  },
  {
   "cell_type": "code",
   "execution_count": 11,
   "id": "af646759",
   "metadata": {},
   "outputs": [
    {
     "name": "stdout",
     "output_type": "stream",
     "text": [
      "please enter to check even or odd number8\n",
      "input number is even 8\n"
     ]
    }
   ],
   "source": [
    "#Qno8) rite a program which take input from user and identify that the given number is even or odd? \n",
    "user_input=int(input(\"please enter to check even or odd number\"))\n",
    "if(user_input % 2)==0:\n",
    " print(\"input number is even \"+str(user_input))\n",
    "else:\n",
    " print(\"The Input number is odd \"+str(user_input))"
   ]
  },
  {
   "cell_type": "code",
   "execution_count": 13,
   "id": "728ee6a0",
   "metadata": {},
   "outputs": [
    {
     "name": "stdout",
     "output_type": "stream",
     "text": [
      "The length of the list is 13\n"
     ]
    }
   ],
   "source": [
    "\n",
    "#Qno9? Write a program which print the length of the list? \n",
    "\n",
    "length_of_list = [1, 1, 2, 3,  8, 21, 34, 55, 89, \"Pakistan\", \"Zinda\",\"Bad\", \"Hai\"]  \n",
    "print(\"The length of the list is\", len(length_of_list))"
   ]
  },
  {
   "cell_type": "code",
   "execution_count": 22,
   "id": "793ae23a",
   "metadata": {},
   "outputs": [
    {
     "name": "stdout",
     "output_type": "stream",
     "text": [
      "largest Number of the List is:  99\n"
     ]
    }
   ],
   "source": [
    "#QNo11)Write a Python program to get the largest number from a numeric list. ?\n",
    "\n",
    "listtotal = [1, 1, 3, 8, 5, 99, 13, 21, 99, 77, 89,40]\n",
    "listtotal.sort()\n",
    "print(\"largest Number of the List is: \" ,listtotal[-1])"
   ]
  },
  {
   "cell_type": "code",
   "execution_count": 25,
   "id": "e1616211",
   "metadata": {},
   "outputs": [
    {
     "name": "stdout",
     "output_type": "stream",
     "text": [
      "Given List of Element  less than 5: Show  [1, 1, 2, 3]\n"
     ]
    }
   ],
   "source": [
    "#QNo12) Take a list, say for example this one: \n",
    " \n",
    "#a = [1, 1, 2, 3, 5, 8, 13, 21, 34, 55, 89] \n",
    "#Write a program that prints out all the elements of the list that are less than 5. \n",
    "\n",
    "a = [1, 1, 2, 3, 5, 8, 13, 21, 34, 55, 89]\n",
    "\n",
    "Arslan=[Abbasi for Abbasi in a if Abbasi <5]\n",
    "print(\"Given List of Element  less than 5: Show \",Arslan)"
   ]
  },
  {
   "cell_type": "code",
   "execution_count": null,
   "id": "59920179",
   "metadata": {},
   "outputs": [],
   "source": []
  }
 ],
 "metadata": {
  "kernelspec": {
   "display_name": "Python 3",
   "language": "python",
   "name": "python3"
  },
  "language_info": {
   "codemirror_mode": {
    "name": "ipython",
    "version": 3
   },
   "file_extension": ".py",
   "mimetype": "text/x-python",
   "name": "python",
   "nbconvert_exporter": "python",
   "pygments_lexer": "ipython3",
   "version": "3.8.8"
  }
 },
 "nbformat": 4,
 "nbformat_minor": 5
}
